{
  "nbformat": 4,
  "nbformat_minor": 0,
  "metadata": {
    "colab": {
      "name": "네이버 영화평점 크롤링.ipynb",
      "provenance": [],
      "authorship_tag": "ABX9TyO4x7Q6MCcr2f+zL5QCE/tT",
      "include_colab_link": true
    },
    "kernelspec": {
      "name": "python3",
      "display_name": "Python 3"
    },
    "language_info": {
      "name": "python"
    }
  },
  "cells": [
    {
      "cell_type": "markdown",
      "metadata": {
        "id": "view-in-github",
        "colab_type": "text"
      },
      "source": [
        "<a href=\"https://colab.research.google.com/github/eunjeechoi/crawling/blob/main/%EB%84%A4%EC%9D%B4%EB%B2%84_%EC%98%81%ED%99%94%ED%8F%89%EC%A0%90_%ED%81%AC%EB%A1%A4%EB%A7%81.ipynb\" target=\"_parent\"><img src=\"https://colab.research.google.com/assets/colab-badge.svg\" alt=\"Open In Colab\"/></a>"
      ]
    },
    {
      "cell_type": "code",
      "execution_count": 3,
      "metadata": {
        "id": "RAGsS8cjJ7GT"
      },
      "outputs": [],
      "source": [
        "import requests #인터넷 연결\n",
        "from bs4 import BeautifulSoup as bs # 데이터 분석 쉽게 처리\n",
        "import pandas as pd # 데이터 분석 라이브러리"
      ]
    },
    {
      "cell_type": "code",
      "source": [
        " url='https://movie.naver.com/movie/sdb/rank/rmovie.naver?sel=cur&date=20220112'"
      ],
      "metadata": {
        "id": "CoAJfddUK_1P"
      },
      "execution_count": 5,
      "outputs": []
    },
    {
      "cell_type": "code",
      "source": [
        "html=requests.get(url)\n",
        "soup=bs(html.text)"
      ],
      "metadata": {
        "id": "WoUBNMOAK_5A"
      },
      "execution_count": 10,
      "outputs": []
    },
    {
      "cell_type": "code",
      "source": [
        "soup\n",
        "soup.select('tbody > tr')"
      ],
      "metadata": {
        "colab": {
          "base_uri": "https://localhost:8080/"
        },
        "id": "dow8BTKzK_-E",
        "outputId": "8b3b286c-4a31-4d47-ca03-dcdd8ec385e2"
      },
      "execution_count": 14,
      "outputs": [
        {
          "output_type": "execute_result",
          "data": {
            "text/plain": [
              "[<tr><td class=\"blank01\" colspan=\"8\"></td></tr>, <tr>\n",
              " <td class=\"ac\"><img alt=\"01\" height=\"13\" src=\"https://ssl.pstatic.net/imgmovie/2007/img/common/bullet_r_r01.gif\" width=\"14\"/></td>\n",
              " <td class=\"title\">\n",
              " <div class=\"tit5\">\n",
              " <a href=\"/movie/bi/mi/basic.naver?code=187320\" title=\"씽2게더\">씽2게더</a>\n",
              " </div>\n",
              " </td>\n",
              " <!-- 평점순일 때 평점 추가하기  -->\n",
              " <td><div class=\"point_type_2\"><div class=\"mask\" style=\"width:93.99999618530273%\"><img alt=\"\" height=\"14\" src=\"https://ssl.pstatic.net/imgmovie/2007/img/common/point_type_2_bg_on.gif\" width=\"79\"/></div></div></td>\n",
              " <td class=\"point\">9.40</td>\n",
              " <td class=\"ac\"><a class=\"txt_link\" href=\"/movie/point/af/list.naver?st=mcode&amp;sword=187320\">평점주기</a></td>\n",
              " <!----------------------------------------->\n",
              " <td class=\"ac\"><img alt=\"na\" class=\"arrow\" height=\"10\" src=\"https://ssl.pstatic.net/imgmovie/2007/img/common/icon_na_1.gif\" width=\"7\"/></td>\n",
              " <td class=\"range ac\">0</td>\n",
              " </tr>, <tr>\n",
              " <td class=\"ac\"><img alt=\"02\" height=\"13\" src=\"https://ssl.pstatic.net/imgmovie/2007/img/common/bullet_r_r02.gif\" width=\"14\"/></td>\n",
              " <td class=\"title\">\n",
              " <div class=\"tit5\">\n",
              " <a href=\"/movie/bi/mi/basic.naver?code=19031\" title=\"러브레터\">러브레터</a>\n",
              " </div>\n",
              " </td>\n",
              " <!-- 평점순일 때 평점 추가하기  -->\n",
              " <td><div class=\"point_type_2\"><div class=\"mask\" style=\"width:91.19999885559082%\"><img alt=\"\" height=\"14\" src=\"https://ssl.pstatic.net/imgmovie/2007/img/common/point_type_2_bg_on.gif\" width=\"79\"/></div></div></td>\n",
              " <td class=\"point\">9.12</td>\n",
              " <td class=\"ac\"><a class=\"txt_link\" href=\"/movie/point/af/list.naver?st=mcode&amp;sword=19031\">평점주기</a></td>\n",
              " <!----------------------------------------->\n",
              " <td class=\"ac\"><img alt=\"up\" class=\"arrow\" height=\"10\" src=\"https://ssl.pstatic.net/imgmovie/2007/img/common/icon_up_1.gif\" width=\"7\"/></td>\n",
              " <td class=\"range ac\">1</td>\n",
              " </tr>, <tr>\n",
              " <td class=\"ac\"><img alt=\"03\" height=\"13\" src=\"https://ssl.pstatic.net/imgmovie/2007/img/common/bullet_r_r03.gif\" width=\"14\"/></td>\n",
              " <td class=\"title\">\n",
              " <div class=\"tit5\">\n",
              " <a href=\"/movie/bi/mi/basic.naver?code=208077\" title=\"스파이더맨: 노 웨이 홈\">스파이더맨: 노 웨이 홈</a>\n",
              " </div>\n",
              " </td>\n",
              " <!-- 평점순일 때 평점 추가하기  -->\n",
              " <td><div class=\"point_type_2\"><div class=\"mask\" style=\"width:89.20000076293945%\"><img alt=\"\" height=\"14\" src=\"https://ssl.pstatic.net/imgmovie/2007/img/common/point_type_2_bg_on.gif\" width=\"79\"/></div></div></td>\n",
              " <td class=\"point\">8.92</td>\n",
              " <td class=\"ac\"><a class=\"txt_link\" href=\"/movie/point/af/list.naver?st=mcode&amp;sword=208077\">평점주기</a></td>\n",
              " <!----------------------------------------->\n",
              " <td class=\"ac\"><img alt=\"up\" class=\"arrow\" height=\"10\" src=\"https://ssl.pstatic.net/imgmovie/2007/img/common/icon_up_1.gif\" width=\"7\"/></td>\n",
              " <td class=\"range ac\">1</td>\n",
              " </tr>, <tr>\n",
              " <td class=\"ac\"><img alt=\"04\" height=\"13\" src=\"https://ssl.pstatic.net/imgmovie/2007/img/common/bullet_r_r04.gif\" width=\"14\"/></td>\n",
              " <td class=\"title\">\n",
              " <div class=\"tit5\">\n",
              " <a href=\"/movie/bi/mi/basic.naver?code=27350\" title=\"기쿠지로의 여름\">기쿠지로의 여름</a>\n",
              " </div>\n",
              " </td>\n",
              " <!-- 평점순일 때 평점 추가하기  -->\n",
              " <td><div class=\"point_type_2\"><div class=\"mask\" style=\"width:89.20000076293945%\"><img alt=\"\" height=\"14\" src=\"https://ssl.pstatic.net/imgmovie/2007/img/common/point_type_2_bg_on.gif\" width=\"79\"/></div></div></td>\n",
              " <td class=\"point\">8.92</td>\n",
              " <td class=\"ac\"><a class=\"txt_link\" href=\"/movie/point/af/list.naver?st=mcode&amp;sword=27350\">평점주기</a></td>\n",
              " <!----------------------------------------->\n",
              " <td class=\"new_icon\" colspan=\"2\"><img alt=\"new\" height=\"5\" src=\"https://ssl.pstatic.net/imgmovie/2007/img/common/icon_new_1.gif\" width=\"20\"/></td>\n",
              " </tr>, <tr>\n",
              " <td class=\"ac\"><img alt=\"05\" height=\"13\" src=\"https://ssl.pstatic.net/imgmovie/2007/img/common/bullet_r_r05.gif\" width=\"14\"/></td>\n",
              " <td class=\"title\">\n",
              " <div class=\"tit5\">\n",
              " <a href=\"/movie/bi/mi/basic.naver?code=32588\" title=\"아멜리에\">아멜리에</a>\n",
              " </div>\n",
              " </td>\n",
              " <!-- 평점순일 때 평점 추가하기  -->\n",
              " <td><div class=\"point_type_2\"><div class=\"mask\" style=\"width:88.10000419616699%\"><img alt=\"\" height=\"14\" src=\"https://ssl.pstatic.net/imgmovie/2007/img/common/point_type_2_bg_on.gif\" width=\"79\"/></div></div></td>\n",
              " <td class=\"point\">8.81</td>\n",
              " <td class=\"ac\"><a class=\"txt_link\" href=\"/movie/point/af/list.naver?st=mcode&amp;sword=32588\">평점주기</a></td>\n",
              " <!----------------------------------------->\n",
              " <td class=\"ac\"><img alt=\"na\" class=\"arrow\" height=\"10\" src=\"https://ssl.pstatic.net/imgmovie/2007/img/common/icon_na_1.gif\" width=\"7\"/></td>\n",
              " <td class=\"range ac\">0</td>\n",
              " </tr>, <tr>\n",
              " <td class=\"ac\"><img alt=\"06\" height=\"13\" src=\"https://ssl.pstatic.net/imgmovie/2007/img/common/bullet_r_r06.gif\" width=\"14\"/></td>\n",
              " <td class=\"title\">\n",
              " <div class=\"tit5\">\n",
              " <a href=\"/movie/bi/mi/basic.naver?code=31607\" title=\"고양이를 부탁해\">고양이를 부탁해</a>\n",
              " </div>\n",
              " </td>\n",
              " <!-- 평점순일 때 평점 추가하기  -->\n",
              " <td><div class=\"point_type_2\"><div class=\"mask\" style=\"width:88.10000419616699%\"><img alt=\"\" height=\"14\" src=\"https://ssl.pstatic.net/imgmovie/2007/img/common/point_type_2_bg_on.gif\" width=\"79\"/></div></div></td>\n",
              " <td class=\"point\">8.81</td>\n",
              " <td class=\"ac\"><a class=\"txt_link\" href=\"/movie/point/af/list.naver?st=mcode&amp;sword=31607\">평점주기</a></td>\n",
              " <!----------------------------------------->\n",
              " <td class=\"ac\"><img alt=\"na\" class=\"arrow\" height=\"10\" src=\"https://ssl.pstatic.net/imgmovie/2007/img/common/icon_na_1.gif\" width=\"7\"/></td>\n",
              " <td class=\"range ac\">0</td>\n",
              " </tr>, <tr>\n",
              " <td class=\"ac\"><img alt=\"07\" height=\"13\" src=\"https://ssl.pstatic.net/imgmovie/2007/img/common/bullet_r_r07.gif\" width=\"14\"/></td>\n",
              " <td class=\"title\">\n",
              " <div class=\"tit5\">\n",
              " <a href=\"/movie/bi/mi/basic.naver?code=205623\" title=\"드라이브 마이 카\">드라이브 마이 카</a>\n",
              " </div>\n",
              " </td>\n",
              " <!-- 평점순일 때 평점 추가하기  -->\n",
              " <td><div class=\"point_type_2\"><div class=\"mask\" style=\"width:86.49999618530273%\"><img alt=\"\" height=\"14\" src=\"https://ssl.pstatic.net/imgmovie/2007/img/common/point_type_2_bg_on.gif\" width=\"79\"/></div></div></td>\n",
              " <td class=\"point\">8.65</td>\n",
              " <td class=\"ac\"><a class=\"txt_link\" href=\"/movie/point/af/list.naver?st=mcode&amp;sword=205623\">평점주기</a></td>\n",
              " <!----------------------------------------->\n",
              " <td class=\"ac\"><img alt=\"up\" class=\"arrow\" height=\"10\" src=\"https://ssl.pstatic.net/imgmovie/2007/img/common/icon_up_1.gif\" width=\"7\"/></td>\n",
              " <td class=\"range ac\">1</td>\n",
              " </tr>, <tr>\n",
              " <td class=\"ac\"><img alt=\"08\" height=\"13\" src=\"https://ssl.pstatic.net/imgmovie/2007/img/common/bullet_r_r08.gif\" width=\"14\"/></td>\n",
              " <td class=\"title\">\n",
              " <div class=\"tit5\">\n",
              " <a href=\"/movie/bi/mi/basic.naver?code=210282\" title=\"엔칸토: 마법의 세계\">엔칸토: 마법의 세계</a>\n",
              " </div>\n",
              " </td>\n",
              " <!-- 평점순일 때 평점 추가하기  -->\n",
              " <td><div class=\"point_type_2\"><div class=\"mask\" style=\"width:83.00000190734863%\"><img alt=\"\" height=\"14\" src=\"https://ssl.pstatic.net/imgmovie/2007/img/common/point_type_2_bg_on.gif\" width=\"79\"/></div></div></td>\n",
              " <td class=\"point\">8.30</td>\n",
              " <td class=\"ac\"><a class=\"txt_link\" href=\"/movie/point/af/list.naver?st=mcode&amp;sword=210282\">평점주기</a></td>\n",
              " <!----------------------------------------->\n",
              " <td class=\"ac\"><img alt=\"up\" class=\"arrow\" height=\"10\" src=\"https://ssl.pstatic.net/imgmovie/2007/img/common/icon_up_1.gif\" width=\"7\"/></td>\n",
              " <td class=\"range ac\">1</td>\n",
              " </tr>, <tr>\n",
              " <td class=\"ac\"><img alt=\"09\" height=\"13\" src=\"https://ssl.pstatic.net/imgmovie/2007/img/common/bullet_r_r09.gif\" width=\"14\"/></td>\n",
              " <td class=\"title\">\n",
              " <div class=\"tit5\">\n",
              " <a href=\"/movie/bi/mi/basic.naver?code=196809\" title=\"연애 빠진 로맨스\">연애 빠진 로맨스</a>\n",
              " </div>\n",
              " </td>\n",
              " <!-- 평점순일 때 평점 추가하기  -->\n",
              " <td><div class=\"point_type_2\"><div class=\"mask\" style=\"width:82.89999961853027%\"><img alt=\"\" height=\"14\" src=\"https://ssl.pstatic.net/imgmovie/2007/img/common/point_type_2_bg_on.gif\" width=\"79\"/></div></div></td>\n",
              " <td class=\"point\">8.29</td>\n",
              " <td class=\"ac\"><a class=\"txt_link\" href=\"/movie/point/af/list.naver?st=mcode&amp;sword=196809\">평점주기</a></td>\n",
              " <!----------------------------------------->\n",
              " <td class=\"ac\"><img alt=\"up\" class=\"arrow\" height=\"10\" src=\"https://ssl.pstatic.net/imgmovie/2007/img/common/icon_up_1.gif\" width=\"7\"/></td>\n",
              " <td class=\"range ac\">1</td>\n",
              " </tr>, <tr>\n",
              " <td class=\"ac\"><img alt=\"010\" height=\"13\" src=\"https://ssl.pstatic.net/imgmovie/2007/img/common/bullet_r_r10.gif\" width=\"14\"/></td>\n",
              " <td class=\"title\">\n",
              " <div class=\"tit5\">\n",
              " <a href=\"/movie/bi/mi/basic.naver?code=159893\" title=\"킹스맨: 퍼스트 에이전트\">킹스맨: 퍼스트 에이전트</a>\n",
              " </div>\n",
              " </td>\n",
              " <!-- 평점순일 때 평점 추가하기  -->\n",
              " <td><div class=\"point_type_2\"><div class=\"mask\" style=\"width:81.09999656677246%\"><img alt=\"\" height=\"14\" src=\"https://ssl.pstatic.net/imgmovie/2007/img/common/point_type_2_bg_on.gif\" width=\"79\"/></div></div></td>\n",
              " <td class=\"point\">8.11</td>\n",
              " <td class=\"ac\"><a class=\"txt_link\" href=\"/movie/point/af/list.naver?st=mcode&amp;sword=159893\">평점주기</a></td>\n",
              " <!----------------------------------------->\n",
              " <td class=\"ac\"><img alt=\"up\" class=\"arrow\" height=\"10\" src=\"https://ssl.pstatic.net/imgmovie/2007/img/common/icon_up_1.gif\" width=\"7\"/></td>\n",
              " <td class=\"range ac\">1</td>\n",
              " </tr>, <tr><td class=\"line01\" colspan=\"8\"></td></tr>, <tr>\n",
              " <td class=\"ac\"><img alt=\"11\" height=\"13\" src=\"https://ssl.pstatic.net/imgmovie/2007/img/common/bullet_r_g11.gif\" width=\"14\"/></td>\n",
              " <td class=\"title\">\n",
              " <div class=\"tit5\">\n",
              " <a href=\"/movie/bi/mi/basic.naver?code=187312\" title=\"프렌치 디스패치\">프렌치 디스패치</a>\n",
              " </div>\n",
              " </td>\n",
              " <!-- 평점순일 때 평점 추가하기  -->\n",
              " <td><div class=\"point_type_2\"><div class=\"mask\" style=\"width:80.0%\"><img alt=\"\" height=\"14\" src=\"https://ssl.pstatic.net/imgmovie/2007/img/common/point_type_2_bg_on.gif\" width=\"79\"/></div></div></td>\n",
              " <td class=\"point\">8.00</td>\n",
              " <td class=\"ac\"><a class=\"txt_link\" href=\"/movie/point/af/list.naver?st=mcode&amp;sword=187312\">평점주기</a></td>\n",
              " <!----------------------------------------->\n",
              " <td class=\"ac\"><img alt=\"up\" class=\"arrow\" height=\"10\" src=\"https://ssl.pstatic.net/imgmovie/2007/img/common/icon_up_1.gif\" width=\"7\"/></td>\n",
              " <td class=\"range ac\">1</td>\n",
              " </tr>, <tr>\n",
              " <td class=\"ac\"><img alt=\"12\" height=\"13\" src=\"https://ssl.pstatic.net/imgmovie/2007/img/common/bullet_r_g12.gif\" width=\"14\"/></td>\n",
              " <td class=\"title\">\n",
              " <div class=\"tit5\">\n",
              " <a href=\"/movie/bi/mi/basic.naver?code=75237\" title=\"아웃레이지\">아웃레이지</a>\n",
              " </div>\n",
              " </td>\n",
              " <!-- 평점순일 때 평점 추가하기  -->\n",
              " <td><div class=\"point_type_2\"><div class=\"mask\" style=\"width:78.4000015258789%\"><img alt=\"\" height=\"14\" src=\"https://ssl.pstatic.net/imgmovie/2007/img/common/point_type_2_bg_on.gif\" width=\"79\"/></div></div></td>\n",
              " <td class=\"point\">7.84</td>\n",
              " <td class=\"ac\"><a class=\"txt_link\" href=\"/movie/point/af/list.naver?st=mcode&amp;sword=75237\">평점주기</a></td>\n",
              " <!----------------------------------------->\n",
              " <td class=\"ac\"><img alt=\"up\" class=\"arrow\" height=\"10\" src=\"https://ssl.pstatic.net/imgmovie/2007/img/common/icon_up_1.gif\" width=\"7\"/></td>\n",
              " <td class=\"range ac\">1</td>\n",
              " </tr>, <tr>\n",
              " <td class=\"ac\"><img alt=\"13\" height=\"13\" src=\"https://ssl.pstatic.net/imgmovie/2007/img/common/bullet_r_g13.gif\" width=\"14\"/></td>\n",
              " <td class=\"title\">\n",
              " <div class=\"tit5\">\n",
              " <a href=\"/movie/bi/mi/basic.naver?code=190400\" title=\"경관의 피\">경관의 피</a>\n",
              " </div>\n",
              " </td>\n",
              " <!-- 평점순일 때 평점 추가하기  -->\n",
              " <td><div class=\"point_type_2\"><div class=\"mask\" style=\"width:76.99999809265137%\"><img alt=\"\" height=\"14\" src=\"https://ssl.pstatic.net/imgmovie/2007/img/common/point_type_2_bg_on.gif\" width=\"79\"/></div></div></td>\n",
              " <td class=\"point\">7.70</td>\n",
              " <td class=\"ac\"><a class=\"txt_link\" href=\"/movie/point/af/list.naver?st=mcode&amp;sword=190400\">평점주기</a></td>\n",
              " <!----------------------------------------->\n",
              " <td class=\"ac\"><img alt=\"up\" class=\"arrow\" height=\"10\" src=\"https://ssl.pstatic.net/imgmovie/2007/img/common/icon_up_1.gif\" width=\"7\"/></td>\n",
              " <td class=\"range ac\">1</td>\n",
              " </tr>, <tr>\n",
              " <td class=\"ac\"><img alt=\"14\" height=\"13\" src=\"https://ssl.pstatic.net/imgmovie/2007/img/common/bullet_r_g14.gif\" width=\"14\"/></td>\n",
              " <td class=\"title\">\n",
              " <div class=\"tit5\">\n",
              " <a href=\"/movie/bi/mi/basic.naver?code=182362\" title=\"유체이탈자\">유체이탈자</a>\n",
              " </div>\n",
              " </td>\n",
              " <!-- 평점순일 때 평점 추가하기  -->\n",
              " <td><div class=\"point_type_2\"><div class=\"mask\" style=\"width:75.59999942779541%\"><img alt=\"\" height=\"14\" src=\"https://ssl.pstatic.net/imgmovie/2007/img/common/point_type_2_bg_on.gif\" width=\"79\"/></div></div></td>\n",
              " <td class=\"point\">7.56</td>\n",
              " <td class=\"ac\"><a class=\"txt_link\" href=\"/movie/point/af/list.naver?st=mcode&amp;sword=182362\">평점주기</a></td>\n",
              " <!----------------------------------------->\n",
              " <td class=\"ac\"><img alt=\"up\" class=\"arrow\" height=\"10\" src=\"https://ssl.pstatic.net/imgmovie/2007/img/common/icon_up_1.gif\" width=\"7\"/></td>\n",
              " <td class=\"range ac\">1</td>\n",
              " </tr>, <tr>\n",
              " <td class=\"ac\"><img alt=\"15\" height=\"13\" src=\"https://ssl.pstatic.net/imgmovie/2007/img/common/bullet_r_g15.gif\" width=\"14\"/></td>\n",
              " <td class=\"title\">\n",
              " <div class=\"tit5\">\n",
              " <a href=\"/movie/bi/mi/basic.naver?code=204649\" title=\"해피 뉴 이어\">해피 뉴 이어</a>\n",
              " </div>\n",
              " </td>\n",
              " <!-- 평점순일 때 평점 추가하기  -->\n",
              " <td><div class=\"point_type_2\"><div class=\"mask\" style=\"width:70.70000171661377%\"><img alt=\"\" height=\"14\" src=\"https://ssl.pstatic.net/imgmovie/2007/img/common/point_type_2_bg_on.gif\" width=\"79\"/></div></div></td>\n",
              " <td class=\"point\">7.07</td>\n",
              " <td class=\"ac\"><a class=\"txt_link\" href=\"/movie/point/af/list.naver?st=mcode&amp;sword=204649\">평점주기</a></td>\n",
              " <!----------------------------------------->\n",
              " <td class=\"ac\"><img alt=\"up\" class=\"arrow\" height=\"10\" src=\"https://ssl.pstatic.net/imgmovie/2007/img/common/icon_up_1.gif\" width=\"7\"/></td>\n",
              " <td class=\"range ac\">1</td>\n",
              " </tr>, <tr>\n",
              " <td class=\"ac\"><img alt=\"16\" height=\"13\" src=\"https://ssl.pstatic.net/imgmovie/2007/img/common/bullet_r_g16.gif\" width=\"14\"/></td>\n",
              " <td class=\"title\">\n",
              " <div class=\"tit5\">\n",
              " <a href=\"/movie/bi/mi/basic.naver?code=191600\" title=\"매트릭스: 리저렉션\">매트릭스: 리저렉션</a>\n",
              " </div>\n",
              " </td>\n",
              " <!-- 평점순일 때 평점 추가하기  -->\n",
              " <td><div class=\"point_type_2\"><div class=\"mask\" style=\"width:55.10000228881836%\"><img alt=\"\" height=\"14\" src=\"https://ssl.pstatic.net/imgmovie/2007/img/common/point_type_2_bg_on.gif\" width=\"79\"/></div></div></td>\n",
              " <td class=\"point\">5.51</td>\n",
              " <td class=\"ac\"><a class=\"txt_link\" href=\"/movie/point/af/list.naver?st=mcode&amp;sword=191600\">평점주기</a></td>\n",
              " <!----------------------------------------->\n",
              " <td class=\"ac\"><img alt=\"up\" class=\"arrow\" height=\"10\" src=\"https://ssl.pstatic.net/imgmovie/2007/img/common/icon_up_1.gif\" width=\"7\"/></td>\n",
              " <td class=\"range ac\">2</td>\n",
              " </tr>, <tr><td class=\"blank01\" colspan=\"8\"></td></tr>]"
            ]
          },
          "metadata": {},
          "execution_count": 14
        }
      ]
    },
    {
      "cell_type": "code",
      "source": [
        "title_n=soup.select('div.tit5 > a')\n",
        "len(title_n)"
      ],
      "metadata": {
        "colab": {
          "base_uri": "https://localhost:8080/"
        },
        "id": "2HBT5QVMLZWe",
        "outputId": "50aa6042-987e-4a75-f09a-c4a8baf759c2"
      },
      "execution_count": 19,
      "outputs": [
        {
          "output_type": "execute_result",
          "data": {
            "text/plain": [
              "16"
            ]
          },
          "metadata": {},
          "execution_count": 19
        }
      ]
    },
    {
      "cell_type": "code",
      "source": [
        "title_n[0]"
      ],
      "metadata": {
        "colab": {
          "base_uri": "https://localhost:8080/"
        },
        "id": "iPD_-uf9LZZO",
        "outputId": "7289ab87-9dad-4a0d-93d2-802e0943a7cf"
      },
      "execution_count": 20,
      "outputs": [
        {
          "output_type": "execute_result",
          "data": {
            "text/plain": [
              "<a href=\"/movie/bi/mi/basic.naver?code=187320\" title=\"씽2게더\">씽2게더</a>"
            ]
          },
          "metadata": {},
          "execution_count": 20
        }
      ]
    },
    {
      "cell_type": "code",
      "source": [
        "point_n=soup.select('td.point')\n",
        "len(point_n)"
      ],
      "metadata": {
        "colab": {
          "base_uri": "https://localhost:8080/"
        },
        "id": "VlXydH0RLZdA",
        "outputId": "e562b8e9-1e0f-4b93-da5b-b4e6e7d63fd7"
      },
      "execution_count": 22,
      "outputs": [
        {
          "output_type": "execute_result",
          "data": {
            "text/plain": [
              "16"
            ]
          },
          "metadata": {},
          "execution_count": 22
        }
      ]
    },
    {
      "cell_type": "code",
      "source": [
        "point_n[0].text"
      ],
      "metadata": {
        "colab": {
          "base_uri": "https://localhost:8080/",
          "height": 36
        },
        "id": "rVuPfEhXLZgx",
        "outputId": "a731d3c1-06cf-47ea-83a8-55027fb5b0b2"
      },
      "execution_count": 23,
      "outputs": [
        {
          "output_type": "execute_result",
          "data": {
            "application/vnd.google.colaboratory.intrinsic+json": {
              "type": "string"
            },
            "text/plain": [
              "'9.40'"
            ]
          },
          "metadata": {},
          "execution_count": 23
        }
      ]
    },
    {
      "cell_type": "code",
      "source": [
        "print(title_n[0].text)\n",
        "print(point_n[0].text)"
      ],
      "metadata": {
        "colab": {
          "base_uri": "https://localhost:8080/"
        },
        "id": "GVz00HpdLZkY",
        "outputId": "c88ef90e-1c7e-41b5-b4db-211905f763ff"
      },
      "execution_count": 24,
      "outputs": [
        {
          "output_type": "stream",
          "name": "stdout",
          "text": [
            "씽2게더\n",
            "9.40\n"
          ]
        }
      ]
    },
    {
      "cell_type": "code",
      "source": [
        "print(title_n[1].text)\n",
        "print(point_n[1].text)"
      ],
      "metadata": {
        "colab": {
          "base_uri": "https://localhost:8080/"
        },
        "id": "x9eTfv5NLZnd",
        "outputId": "46f3dff3-789b-4a13-b743-81dc89f10b54"
      },
      "execution_count": 25,
      "outputs": [
        {
          "output_type": "stream",
          "name": "stdout",
          "text": [
            "러브레터\n",
            "9.12\n"
          ]
        }
      ]
    },
    {
      "cell_type": "code",
      "source": [
        "print(title_n[2].text)\n",
        "print(point_n[2].text)"
      ],
      "metadata": {
        "colab": {
          "base_uri": "https://localhost:8080/"
        },
        "id": "phDdBJsNLZqb",
        "outputId": "23a028ed-e9f7-469a-e2a0-3352b082721d"
      },
      "execution_count": 26,
      "outputs": [
        {
          "output_type": "stream",
          "name": "stdout",
          "text": [
            "스파이더맨: 노 웨이 홈\n",
            "8.92\n"
          ]
        }
      ]
    },
    {
      "cell_type": "code",
      "source": [
        "movie_list=[]\n",
        "rank=1\n",
        "for each in range(len(point_n)):\n",
        "  title=title_n[each].text\n",
        "  point=point_n[each].text\n",
        "  movie_list.append([rank,title,point])\n",
        "  rank+=1\n",
        "movie_list"
      ],
      "metadata": {
        "colab": {
          "base_uri": "https://localhost:8080/"
        },
        "id": "hf24vtSTLAAb",
        "outputId": "311e3975-65a9-4f67-feb4-ac5ef4b1525f"
      },
      "execution_count": 28,
      "outputs": [
        {
          "output_type": "execute_result",
          "data": {
            "text/plain": [
              "[[1, '씽2게더', '9.40'],\n",
              " [2, '러브레터', '9.12'],\n",
              " [3, '스파이더맨: 노 웨이 홈', '8.92'],\n",
              " [4, '기쿠지로의 여름', '8.92'],\n",
              " [5, '아멜리에', '8.81'],\n",
              " [6, '고양이를 부탁해', '8.81'],\n",
              " [7, '드라이브 마이 카', '8.65'],\n",
              " [8, '엔칸토: 마법의 세계', '8.30'],\n",
              " [9, '연애 빠진 로맨스', '8.29'],\n",
              " [10, '킹스맨: 퍼스트 에이전트', '8.11'],\n",
              " [11, '프렌치 디스패치', '8.00'],\n",
              " [12, '아웃레이지', '7.84'],\n",
              " [13, '경관의 피', '7.70'],\n",
              " [14, '유체이탈자', '7.56'],\n",
              " [15, '해피 뉴 이어', '7.07'],\n",
              " [16, '매트릭스: 리저렉션', '5.51']]"
            ]
          },
          "metadata": {},
          "execution_count": 28
        }
      ]
    },
    {
      "cell_type": "code",
      "source": [
        "df=pd.DataFrame(movie_list,columns=['순위','제목','평점'])\n",
        "df\n"
      ],
      "metadata": {
        "colab": {
          "base_uri": "https://localhost:8080/",
          "height": 551
        },
        "id": "xvFufk68LADu",
        "outputId": "9db8f439-61b5-483d-b2ac-3035764a22e4"
      },
      "execution_count": 31,
      "outputs": [
        {
          "output_type": "execute_result",
          "data": {
            "text/html": [
              "\n",
              "  <div id=\"df-b57d0084-2fc2-41aa-b21e-2433cda92b84\">\n",
              "    <div class=\"colab-df-container\">\n",
              "      <div>\n",
              "<style scoped>\n",
              "    .dataframe tbody tr th:only-of-type {\n",
              "        vertical-align: middle;\n",
              "    }\n",
              "\n",
              "    .dataframe tbody tr th {\n",
              "        vertical-align: top;\n",
              "    }\n",
              "\n",
              "    .dataframe thead th {\n",
              "        text-align: right;\n",
              "    }\n",
              "</style>\n",
              "<table border=\"1\" class=\"dataframe\">\n",
              "  <thead>\n",
              "    <tr style=\"text-align: right;\">\n",
              "      <th></th>\n",
              "      <th>순위</th>\n",
              "      <th>제목</th>\n",
              "      <th>평점</th>\n",
              "    </tr>\n",
              "  </thead>\n",
              "  <tbody>\n",
              "    <tr>\n",
              "      <th>0</th>\n",
              "      <td>1</td>\n",
              "      <td>씽2게더</td>\n",
              "      <td>9.40</td>\n",
              "    </tr>\n",
              "    <tr>\n",
              "      <th>1</th>\n",
              "      <td>2</td>\n",
              "      <td>러브레터</td>\n",
              "      <td>9.12</td>\n",
              "    </tr>\n",
              "    <tr>\n",
              "      <th>2</th>\n",
              "      <td>3</td>\n",
              "      <td>스파이더맨: 노 웨이 홈</td>\n",
              "      <td>8.92</td>\n",
              "    </tr>\n",
              "    <tr>\n",
              "      <th>3</th>\n",
              "      <td>4</td>\n",
              "      <td>기쿠지로의 여름</td>\n",
              "      <td>8.92</td>\n",
              "    </tr>\n",
              "    <tr>\n",
              "      <th>4</th>\n",
              "      <td>5</td>\n",
              "      <td>아멜리에</td>\n",
              "      <td>8.81</td>\n",
              "    </tr>\n",
              "    <tr>\n",
              "      <th>5</th>\n",
              "      <td>6</td>\n",
              "      <td>고양이를 부탁해</td>\n",
              "      <td>8.81</td>\n",
              "    </tr>\n",
              "    <tr>\n",
              "      <th>6</th>\n",
              "      <td>7</td>\n",
              "      <td>드라이브 마이 카</td>\n",
              "      <td>8.65</td>\n",
              "    </tr>\n",
              "    <tr>\n",
              "      <th>7</th>\n",
              "      <td>8</td>\n",
              "      <td>엔칸토: 마법의 세계</td>\n",
              "      <td>8.30</td>\n",
              "    </tr>\n",
              "    <tr>\n",
              "      <th>8</th>\n",
              "      <td>9</td>\n",
              "      <td>연애 빠진 로맨스</td>\n",
              "      <td>8.29</td>\n",
              "    </tr>\n",
              "    <tr>\n",
              "      <th>9</th>\n",
              "      <td>10</td>\n",
              "      <td>킹스맨: 퍼스트 에이전트</td>\n",
              "      <td>8.11</td>\n",
              "    </tr>\n",
              "    <tr>\n",
              "      <th>10</th>\n",
              "      <td>11</td>\n",
              "      <td>프렌치 디스패치</td>\n",
              "      <td>8.00</td>\n",
              "    </tr>\n",
              "    <tr>\n",
              "      <th>11</th>\n",
              "      <td>12</td>\n",
              "      <td>아웃레이지</td>\n",
              "      <td>7.84</td>\n",
              "    </tr>\n",
              "    <tr>\n",
              "      <th>12</th>\n",
              "      <td>13</td>\n",
              "      <td>경관의 피</td>\n",
              "      <td>7.70</td>\n",
              "    </tr>\n",
              "    <tr>\n",
              "      <th>13</th>\n",
              "      <td>14</td>\n",
              "      <td>유체이탈자</td>\n",
              "      <td>7.56</td>\n",
              "    </tr>\n",
              "    <tr>\n",
              "      <th>14</th>\n",
              "      <td>15</td>\n",
              "      <td>해피 뉴 이어</td>\n",
              "      <td>7.07</td>\n",
              "    </tr>\n",
              "    <tr>\n",
              "      <th>15</th>\n",
              "      <td>16</td>\n",
              "      <td>매트릭스: 리저렉션</td>\n",
              "      <td>5.51</td>\n",
              "    </tr>\n",
              "  </tbody>\n",
              "</table>\n",
              "</div>\n",
              "      <button class=\"colab-df-convert\" onclick=\"convertToInteractive('df-b57d0084-2fc2-41aa-b21e-2433cda92b84')\"\n",
              "              title=\"Convert this dataframe to an interactive table.\"\n",
              "              style=\"display:none;\">\n",
              "        \n",
              "  <svg xmlns=\"http://www.w3.org/2000/svg\" height=\"24px\"viewBox=\"0 0 24 24\"\n",
              "       width=\"24px\">\n",
              "    <path d=\"M0 0h24v24H0V0z\" fill=\"none\"/>\n",
              "    <path d=\"M18.56 5.44l.94 2.06.94-2.06 2.06-.94-2.06-.94-.94-2.06-.94 2.06-2.06.94zm-11 1L8.5 8.5l.94-2.06 2.06-.94-2.06-.94L8.5 2.5l-.94 2.06-2.06.94zm10 10l.94 2.06.94-2.06 2.06-.94-2.06-.94-.94-2.06-.94 2.06-2.06.94z\"/><path d=\"M17.41 7.96l-1.37-1.37c-.4-.4-.92-.59-1.43-.59-.52 0-1.04.2-1.43.59L10.3 9.45l-7.72 7.72c-.78.78-.78 2.05 0 2.83L4 21.41c.39.39.9.59 1.41.59.51 0 1.02-.2 1.41-.59l7.78-7.78 2.81-2.81c.8-.78.8-2.07 0-2.86zM5.41 20L4 18.59l7.72-7.72 1.47 1.35L5.41 20z\"/>\n",
              "  </svg>\n",
              "      </button>\n",
              "      \n",
              "  <style>\n",
              "    .colab-df-container {\n",
              "      display:flex;\n",
              "      flex-wrap:wrap;\n",
              "      gap: 12px;\n",
              "    }\n",
              "\n",
              "    .colab-df-convert {\n",
              "      background-color: #E8F0FE;\n",
              "      border: none;\n",
              "      border-radius: 50%;\n",
              "      cursor: pointer;\n",
              "      display: none;\n",
              "      fill: #1967D2;\n",
              "      height: 32px;\n",
              "      padding: 0 0 0 0;\n",
              "      width: 32px;\n",
              "    }\n",
              "\n",
              "    .colab-df-convert:hover {\n",
              "      background-color: #E2EBFA;\n",
              "      box-shadow: 0px 1px 2px rgba(60, 64, 67, 0.3), 0px 1px 3px 1px rgba(60, 64, 67, 0.15);\n",
              "      fill: #174EA6;\n",
              "    }\n",
              "\n",
              "    [theme=dark] .colab-df-convert {\n",
              "      background-color: #3B4455;\n",
              "      fill: #D2E3FC;\n",
              "    }\n",
              "\n",
              "    [theme=dark] .colab-df-convert:hover {\n",
              "      background-color: #434B5C;\n",
              "      box-shadow: 0px 1px 3px 1px rgba(0, 0, 0, 0.15);\n",
              "      filter: drop-shadow(0px 1px 2px rgba(0, 0, 0, 0.3));\n",
              "      fill: #FFFFFF;\n",
              "    }\n",
              "  </style>\n",
              "\n",
              "      <script>\n",
              "        const buttonEl =\n",
              "          document.querySelector('#df-b57d0084-2fc2-41aa-b21e-2433cda92b84 button.colab-df-convert');\n",
              "        buttonEl.style.display =\n",
              "          google.colab.kernel.accessAllowed ? 'block' : 'none';\n",
              "\n",
              "        async function convertToInteractive(key) {\n",
              "          const element = document.querySelector('#df-b57d0084-2fc2-41aa-b21e-2433cda92b84');\n",
              "          const dataTable =\n",
              "            await google.colab.kernel.invokeFunction('convertToInteractive',\n",
              "                                                     [key], {});\n",
              "          if (!dataTable) return;\n",
              "\n",
              "          const docLinkHtml = 'Like what you see? Visit the ' +\n",
              "            '<a target=\"_blank\" href=https://colab.research.google.com/notebooks/data_table.ipynb>data table notebook</a>'\n",
              "            + ' to learn more about interactive tables.';\n",
              "          element.innerHTML = '';\n",
              "          dataTable['output_type'] = 'display_data';\n",
              "          await google.colab.output.renderOutput(dataTable, element);\n",
              "          const docLink = document.createElement('div');\n",
              "          docLink.innerHTML = docLinkHtml;\n",
              "          element.appendChild(docLink);\n",
              "        }\n",
              "      </script>\n",
              "    </div>\n",
              "  </div>\n",
              "  "
            ],
            "text/plain": [
              "    순위             제목    평점\n",
              "0    1           씽2게더  9.40\n",
              "1    2           러브레터  9.12\n",
              "2    3  스파이더맨: 노 웨이 홈  8.92\n",
              "3    4       기쿠지로의 여름  8.92\n",
              "4    5           아멜리에  8.81\n",
              "5    6       고양이를 부탁해  8.81\n",
              "6    7      드라이브 마이 카  8.65\n",
              "7    8    엔칸토: 마법의 세계  8.30\n",
              "8    9      연애 빠진 로맨스  8.29\n",
              "9   10  킹스맨: 퍼스트 에이전트  8.11\n",
              "10  11       프렌치 디스패치  8.00\n",
              "11  12          아웃레이지  7.84\n",
              "12  13          경관의 피  7.70\n",
              "13  14          유체이탈자  7.56\n",
              "14  15        해피 뉴 이어  7.07\n",
              "15  16     매트릭스: 리저렉션  5.51"
            ]
          },
          "metadata": {},
          "execution_count": 31
        }
      ]
    }
  ]
}